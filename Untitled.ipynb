{
 "cells": [
  {
   "cell_type": "code",
   "execution_count": 1,
   "id": "81f9d836",
   "metadata": {},
   "outputs": [
    {
     "name": "stdout",
     "output_type": "stream",
     "text": [
      "15.97\n"
     ]
    }
   ],
   "source": [
    "#1 Display float number with 2 decimal places using print()\n",
    "i = 15.96513\n",
    "print('%.2f'%i)"
   ]
  },
  {
   "cell_type": "code",
   "execution_count": 2,
   "id": "f770b2e2",
   "metadata": {},
   "outputs": [
    {
     "name": "stdout",
     "output_type": "stream",
     "text": [
      "Enter 1st no. :10\n",
      "Enter 2nd no. :20\n",
      "200\n"
     ]
    }
   ],
   "source": [
    "#2 Takes two integer numbers and  return their product.\n",
    "x = int(input(\"Enter 1st no. :\"))\n",
    "y = int(input(\"Enter 2nd no. :\"))\n",
    "print(x*y)"
   ]
  },
  {
   "cell_type": "code",
   "execution_count": 4,
   "id": "aa33ce96",
   "metadata": {},
   "outputs": [
    {
     "name": "stdout",
     "output_type": "stream",
     "text": [
      "25\n",
      "Volume of sphere is: 65449.8469\n"
     ]
    }
   ],
   "source": [
    "#3 Write a Python program to get the volume of a sphere with radius 10.\n",
    "pi = 3.1415926535897931\n",
    "r = int(input())\n",
    "v = 4.0/3.0*pi*r**3\n",
    "print('Volume of sphere is: %.4f'%v)"
   ]
  },
  {
   "cell_type": "code",
   "execution_count": 9,
   "id": "f248e47b",
   "metadata": {},
   "outputs": [
    {
     "name": "stdout",
     "output_type": "stream",
     "text": [
      "enter 1 number:-30\n",
      "enter 1 number:-50\n",
      "1500\n"
     ]
    }
   ],
   "source": [
    "#4 Accept two numbers from the user and multiply them together.\n",
    "x= int(input(\"enter 1 number:-\"))\n",
    "y= int(input(\"enter 1 number:-\"))\n",
    "print(x*y)"
   ]
  },
  {
   "cell_type": "code",
   "execution_count": 11,
   "id": "7867cb2b",
   "metadata": {},
   "outputs": [
    {
     "name": "stdout",
     "output_type": "stream",
     "text": [
      "20\n",
      "204060\n"
     ]
    }
   ],
   "source": [
    "#5 Write a Python program that accepts an integer (a) and computes the value of a+aa+aaa.\n",
    "a = input()\n",
    "aa = a+a\n",
    "aaa = a+a+a\n",
    "print(int(a)+int(aa)+int(aaa))"
   ]
  },
  {
   "cell_type": "code",
   "execution_count": 12,
   "id": "911be601",
   "metadata": {},
   "outputs": [
    {
     "name": "stdout",
     "output_type": "stream",
     "text": [
      "10\n"
     ]
    }
   ],
   "source": [
    "#6 Write a Python program to calculate the length of a string\n",
    "n = 'Ayush Jain'\n",
    "print(len(n))"
   ]
  },
  {
   "cell_type": "code",
   "execution_count": 14,
   "id": "786122a2",
   "metadata": {},
   "outputs": [
    {
     "name": "stdout",
     "output_type": "stream",
     "text": [
      "123456789\n",
      "123456789.0\n"
     ]
    }
   ],
   "source": [
    "#7 Write a Python program to parse a string to Float & Integer\n",
    "x = '123456789'\n",
    "print(int(x))\n",
    "print(float(x))"
   ]
  },
  {
   "cell_type": "code",
   "execution_count": 16,
   "id": "8f0bb6f1",
   "metadata": {},
   "outputs": [
    {
     "name": "stdout",
     "output_type": "stream",
     "text": [
      "enter 1 number:-20\n",
      "enter 1 number:-30\n",
      "50\n"
     ]
    }
   ],
   "source": [
    "#8 Given two integer numbers return their sum. If the sum is greater than 100, then return their product.\n",
    "x= int(input(\"enter 1 number:-\"))\n",
    "y= int(input(\"enter 1 number:-\"))\n",
    "sum = x+y\n",
    "print(sum)\n",
    "\n",
    "if sum>100:\n",
    "    print(\"The sum of the numbers is greater than 100 so the product of the numbers is : \", x*y)\n"
   ]
  },
  {
   "cell_type": "code",
   "execution_count": 18,
   "id": "77c8252a",
   "metadata": {},
   "outputs": [
    {
     "name": "stdout",
     "output_type": "stream",
     "text": [
      "enter 1 number:-10\n",
      "enter 2 number:-20\n",
      "enter 3 number:-30\n",
      "All the values are not equal\n",
      "Sum =  240\n"
     ]
    }
   ],
   "source": [
    "#9 Write a Python program to calculate the sum of three given numbers, if the values are not - equal then return four times of their sum.\n",
    "x= int(input(\"enter 1 number:-\"))\n",
    "y= int(input(\"enter 2 number:-\"))\n",
    "z= int(input(\"enter 3 number:-\"))\n",
    "Sum  = x+y+z\n",
    "\n",
    "if x == y == z:\n",
    "    print(\"All the values are equal\")\n",
    "    print(\"Sum = \",Sum)\n",
    "else:\n",
    "    print(\"All the values are not equal\")\n",
    "    print(\"Sum = \",4*Sum)"
   ]
  },
  {
   "cell_type": "code",
   "execution_count": 19,
   "id": "ead671c1",
   "metadata": {},
   "outputs": [
    {
     "name": "stdout",
     "output_type": "stream",
     "text": [
      "Enter quantity to be purchased:11111\n",
      "Cost =  555550.0\n"
     ]
    }
   ],
   "source": [
    "#10 A shop will give discount of 50% if the cost of purchased quantity is more than 10000. Ask user for quantity suppose, one unit will cost 100. Judge and print total cost for user.\n",
    "x = int(input(\"Enter quantity to be purchased:\"))\n",
    "cost = x*100\n",
    "\n",
    "if cost > 10000:\n",
    "    cost/=2\n",
    "    print(\"Cost = \",cost ) \n",
    "else:\n",
    "    print(\"Cost = \", cost)"
   ]
  },
  {
   "cell_type": "code",
   "execution_count": 20,
   "id": "9c2c824c",
   "metadata": {},
   "outputs": [
    {
     "name": "stdout",
     "output_type": "stream",
     "text": [
      "Enter a number: 25\n",
      "No, The number is not divisible by 8 & 12\n"
     ]
    }
   ],
   "source": [
    "#11 To check whether a number is divisible by 8 and 12 or not.\n",
    "x = int(input(\"Enter a number: \"))\n",
    "\n",
    "if x%8==0 & x%12==0:\n",
    "    print(\"Yes, The number is divisible by 8 & 12\")\n",
    "else:\n",
    "    print(\"No, The number is not divisible by 8 & 12\")"
   ]
  },
  {
   "cell_type": "code",
   "execution_count": 21,
   "id": "00bf4326",
   "metadata": {},
   "outputs": [
    {
     "name": "stdout",
     "output_type": "stream",
     "text": [
      "Enter a number: 254\n",
      "The number is even\n"
     ]
    }
   ],
   "source": [
    "#12 To check whether a given number is even or odd.\n",
    "x = int(input(\"Enter a number: \"))\n",
    "\n",
    "if x%2==0:\n",
    "    print(\"The number is even\")\n",
    "else:    \n",
    "    print(\"The number is odd\")"
   ]
  },
  {
   "cell_type": "code",
   "execution_count": 22,
   "id": "39586fe9",
   "metadata": {},
   "outputs": [
    {
     "name": "stdout",
     "output_type": "stream",
     "text": [
      "Enter the marks of the following Subjects\n",
      "Physics = 20\n",
      "Chemistry = 54\n",
      "Biology = 25\n",
      "Mathematics = 34\n",
      "Computer = 58\n",
      "Percentage is:  38.2\n",
      "Grade F\n"
     ]
    }
   ],
   "source": [
    "'''13 Write a program to input marks of five subjects Physics, Chemistry, Biology, Mathematics and Computer. Calculate percentage and grade according to following:\n",
    "Percentage >= 90% : Grade A\n",
    "Percentage >= 80% : Grade B\n",
    "Percentage >= 70% : Grade C\n",
    "Percentage >= 60% : Grade D\n",
    "Percentage >= 40% : Grade E\n",
    "Percentage < 40% :  Grade F '''\n",
    "'''13 Write a program to input marks of five subjects Physics, Chemistry, Biology, Mathematics and Computer. Calculate percentage and grade according to following:\n",
    "Percentage >= 90% : Grade A\n",
    "Percentage >= 80% : Grade B\n",
    "Percentage >= 70% : Grade C\n",
    "Percentage >= 60% : Grade D\n",
    "Percentage >= 40% : Grade E\n",
    "Percentage < 40% :  Grade F '''\n",
    "\n",
    "print(\"Enter the marks of the following Subjects\")\n",
    "Phy = int(input(\"Physics = \"))\n",
    "Che = int(input(\"Chemistry = \"))\n",
    "Bio = int(input(\"Biology = \"))\n",
    "Math = int(input(\"Mathematics = \"))\n",
    "Comp = int(input(\"Computer = \"))\n",
    "\n",
    "Per = (Phy+Che+Bio+Math+Comp)/5\n",
    "\n",
    "print('Percentage is: ',Per)\n",
    "if Per>=90:\n",
    "    print('Grade A')\n",
    "elif Per>=80:\n",
    "    print('Grade B')\n",
    "elif Per>=70:\n",
    "    print('Grade C')\n",
    "elif Per>=60:\n",
    "    print('Grade D')\n",
    "elif Per>=40:\n",
    "    print('Grade E')\n",
    "else:\n",
    "    print('Grade F')"
   ]
  },
  {
   "cell_type": "code",
   "execution_count": 24,
   "id": "b2f214e4",
   "metadata": {},
   "outputs": [
    {
     "name": "stdout",
     "output_type": "stream",
     "text": [
      "enter 1 number:-15\n",
      "enter 2 number:-123\n",
      "enter 3 number:-12\n",
      "Person second is oldest\n",
      "Person third is youngest\n"
     ]
    }
   ],
   "source": [
    "#14 Take input of age of 3 people by user and determine oldest and youngest among them.\n",
    "a= int(input(\"enter 1 number:-\"))\n",
    "b= int(input(\"enter 2 number:-\"))\n",
    "c= int(input(\"enter 3 number:-\"))\n",
    "if a>b and a>c:\n",
    "    print('Person first is oldest')\n",
    "elif b>a and b>c:\n",
    "    print('Person second is oldest')\n",
    "else:\n",
    "    print('Person third is oldest')\n",
    "if a<b and a<c:\n",
    "    print('Person first is youngest')\n",
    "elif b<a and b<c:\n",
    "    print('Person second is youngest')\n",
    "else:\n",
    "    print('Person third is youngest')"
   ]
  },
  {
   "cell_type": "code",
   "execution_count": 25,
   "id": "60072cf5",
   "metadata": {},
   "outputs": [
    {
     "name": "stdout",
     "output_type": "stream",
     "text": [
      "Enter Units of electricity: 258\n",
      "You have to Pay total amount of Rs. 278.4\n"
     ]
    }
   ],
   "source": [
    "#15 Write a program to input electricity unit charges and calculate total electricity bill according to the given condition:\n",
    "# For first 50 units Rs. 0.50/unit\n",
    "# For next 100 units Rs. 0.75/unit\n",
    "# For next 100 units Rs. 1.20/unit\n",
    "# For unit above 250 Rs. 1.50/unit\n",
    "# An additional surcharge of 20% is added to the bill\n",
    "\n",
    "x = int(input(\"Enter Units of electricity: \"))\n",
    "cost = 0\n",
    "if x - 50 > 0:\n",
    "    cost = 50*(.50)\n",
    "    if x - 150 > 0:\n",
    "        cost = cost + 75\n",
    "        if x - 250 > 0:\n",
    "            cost = cost + 120 + (x-250)*1.50\n",
    "        else:\n",
    "            cost = cost + (x-150)*1.20\n",
    "    else:\n",
    "        cost = cost + (x-50)*.75\n",
    "else:\n",
    "    cost = x*(0.50)\n",
    "cost = cost + cost/5\n",
    "print(\"You have to Pay total amount of Rs.\", cost)"
   ]
  },
  {
   "cell_type": "code",
   "execution_count": 26,
   "id": "c7a0043b",
   "metadata": {},
   "outputs": [
    {
     "name": "stdout",
     "output_type": "stream",
     "text": [
      "Enter the total no of class held :200\n",
      "Enter the no of class attended : 49\n",
      "Youe attendance is : 24.5 %\n",
      "Sorry, You are not allowed to sit in exam.\n"
     ]
    }
   ],
   "source": [
    "#16 A student will not be allowed to sit in exam if his/her attendence is less than 80%.\n",
    "#Take following input from user\n",
    "#Total Number of classes held\n",
    "#Total Number of classes attended. And print percentage of class attended. Is student is allowed to sit in exam or not.\n",
    "Class_held = int(input(\"Enter the total no of class held :\"))\n",
    "Class_attended = int(input(\"Enter the no of class attended : \"))\n",
    "\n",
    "attendance = (Class_attended/Class_held)*100\n",
    "print(\"Youe attendance is :\", attendance ,\"%\")\n",
    "\n",
    "if attendance < 80:\n",
    "    print(\"Sorry, You are not allowed to sit in exam.\")\n",
    "else:\n",
    "    print(\"Congrats, You are allowed to sit in exam.\")"
   ]
  },
  {
   "cell_type": "code",
   "execution_count": 27,
   "id": "87cc1e92",
   "metadata": {},
   "outputs": [
    {
     "name": "stdout",
     "output_type": "stream",
     "text": [
      "Enter your income: 20000\n",
      "Given income 20000\n",
      "Total tax to pay is 1000.0\n"
     ]
    }
   ],
   "source": [
    "#17 Calculate income tax for the given income by adhering to the below rules\n",
    "#Taxable Income        Rate (in %)\n",
    "#First Rs.10,0000         0\n",
    "#Next Rs. 10,0000       10\n",
    "#The remaining           20\n",
    "\n",
    "income = int(input(\"Enter your income: \"))\n",
    "tax= 0\n",
    "print(\"Given income\", income)\n",
    "\n",
    "if income <= 10000:\n",
    "    tax = 0\n",
    "elif income <= 20000:\n",
    "    x = income - 10000\n",
    "    tax = x * 10 / 100\n",
    "else:\n",
    "    tax = 10000 * 10 / 100\n",
    "    tax += (income - 20000) * 20 / 100\n",
    "\n",
    "print(\"Total tax to pay is\", tax)"
   ]
  },
  {
   "cell_type": "code",
   "execution_count": 28,
   "id": "939c9ed1",
   "metadata": {},
   "outputs": [
    {
     "name": "stdout",
     "output_type": "stream",
     "text": [
      "1234\n",
      "Digital sum of given number is  10\n"
     ]
    }
   ],
   "source": [
    "#18 Program to find digital sum of a given Number ex: n=123 Digital sum----->1+2+3=6\n",
    "n = int(input())\n",
    "sum = 0\n",
    "while n>0 :\n",
    "  sum = sum + n%10\n",
    "  n= n//10\n",
    "print(\"Digital sum of given number is \",sum)"
   ]
  },
  {
   "cell_type": "code",
   "execution_count": 29,
   "id": "657fb8e4",
   "metadata": {},
   "outputs": [
    {
     "name": "stdout",
     "output_type": "stream",
     "text": [
      "19\n",
      "Digital product of given number is  9\n"
     ]
    }
   ],
   "source": [
    "#19 Program to find the digital product of a given number ex: n=43 Digital product ----->4*3=12\n",
    "n = int(input())\n",
    "p = 1\n",
    "while n>0 :\n",
    "  p = p * (n%10)\n",
    "  n= n//10\n",
    "print(\"Digital product of given number is \",p)"
   ]
  },
  {
   "cell_type": "code",
   "execution_count": 30,
   "id": "fa394c33",
   "metadata": {},
   "outputs": [
    {
     "name": "stdout",
     "output_type": "stream",
     "text": [
      "Enter the range of number:5\n",
      "The sum of the series =  37035\n"
     ]
    }
   ],
   "source": [
    "#20 Find the sum of the series 3 +33 + 333 + 3333 + .. n terms\n",
    "n=int(input(\"Enter the range of number:\"))\n",
    "sum=0\n",
    "p=3\n",
    "for i in range(0,n):\n",
    "    sum += p\n",
    "    p=(p*10)+3\n",
    "print(\"The sum of the series = \",sum)"
   ]
  },
  {
   "cell_type": "code",
   "execution_count": 31,
   "id": "16b07a04",
   "metadata": {},
   "outputs": [
    {
     "name": "stdout",
     "output_type": "stream",
     "text": [
      "* \n",
      "* * \n",
      "* * * \n",
      "* * * * \n",
      "* * * * * \n",
      "* * * * \n",
      "* * * \n",
      "* * \n",
      "* \n"
     ]
    }
   ],
   "source": [
    "#21 Print the following pattern\n",
    "for i in range(1,6):\n",
    "  for j in range (i):\n",
    "    print(\"* \",end=\"\")\n",
    "  print()\n",
    "rows = 4\n",
    "for i in range(rows, 0, -1):\n",
    "    for j in range(0, i):\n",
    "        print(\"* \", end='')\n",
    "    print()"
   ]
  },
  {
   "cell_type": "code",
   "execution_count": 32,
   "id": "5e16605c",
   "metadata": {},
   "outputs": [
    {
     "name": "stdout",
     "output_type": "stream",
     "text": [
      "1234\n",
      "Reversed number is  4321\n"
     ]
    }
   ],
   "source": [
    "#22 Program to reverse a given Number. ex: n=123 Reversed no is 321\n",
    "n = int(input())\n",
    "rev = 0\n",
    "while n>0 :\n",
    "  rev = rev*10 + n%10\n",
    "  n= n//10\n",
    "print(\"Reversed number is \",rev)"
   ]
  },
  {
   "cell_type": "code",
   "execution_count": 34,
   "id": "e79a72c1",
   "metadata": {},
   "outputs": [
    {
     "name": "stdout",
     "output_type": "stream",
     "text": [
      "101\n",
      "101  number is palindrome.\n"
     ]
    }
   ],
   "source": [
    "#23 Program to check whether a given number is a palindrome or not\n",
    "n = int(input())\n",
    "c = n\n",
    "rev = 0\n",
    "while n>0 :\n",
    "  rev = rev*10 + n%10\n",
    "  n= n//10\n",
    "if c==rev:\n",
    "  print(c,\" number is palindrome.\")\n",
    "else:\n",
    "  print(c,\" number i not palindrome.\")"
   ]
  },
  {
   "cell_type": "code",
   "execution_count": 35,
   "id": "40c64585",
   "metadata": {},
   "outputs": [
    {
     "name": "stdout",
     "output_type": "stream",
     "text": [
      "Enter any number: 25\n",
      "25 is not an Armstrong number\n"
     ]
    }
   ],
   "source": [
    "#24 Program to check whether a given number is an Armstrong number or not.\n",
    "num = int(input(\"Enter any number: \"))\n",
    "temp = num\n",
    "l = len(str(num))\n",
    "sum = 0\n",
    "while temp > 0:\n",
    "   sum = sum + (temp % 10) ** l\n",
    "   temp //= 10\n",
    "if num == sum:\n",
    "   print(num,\"is an Armstrong number\")\n",
    "else:\n",
    "   print(num,\"is not an Armstrong number\")"
   ]
  },
  {
   "cell_type": "code",
   "execution_count": 36,
   "id": "5dbf9bf9",
   "metadata": {},
   "outputs": [
    {
     "name": "stdout",
     "output_type": "stream",
     "text": [
      " Enter a number 5\n",
      "Factorial of  5  is  120\n"
     ]
    }
   ],
   "source": [
    "#25Program to find factorial of a given number.\n",
    "n = int(input(\" Enter a number \"))\n",
    "fact = 1\n",
    "for i in range(1,n+1):\n",
    "  fact = fact * i\n",
    "print(\"Factorial of \",n ,\" is \", fact)\n"
   ]
  },
  {
   "cell_type": "code",
   "execution_count": 39,
   "id": "2b1a385e",
   "metadata": {},
   "outputs": [
    {
     "name": "stdout",
     "output_type": "stream",
     "text": [
      " Enter a number 145\n",
      "145  is strong number.\n"
     ]
    }
   ],
   "source": [
    "#26  Program to find whether a given number is a strong number or not. e.g. n=145 1!+4!+5!==145\n",
    "def factn(x):\n",
    "  fact = 1\n",
    "  for i in range(1,x+1):\n",
    "    fact = fact * i\n",
    "  return fact\n",
    "n = int(input(\" Enter a number \"))\n",
    "c = n \n",
    "sum = 0\n",
    "while n>0 :\n",
    "  sum = sum + factn(n%10)\n",
    "  n= n//10\n",
    "if sum == c:\n",
    "  print(c,\" is strong number.\")\n",
    "else:\n",
    "  print(c,\" is not a strong number.\")"
   ]
  },
  {
   "cell_type": "code",
   "execution_count": 40,
   "id": "d3d09366",
   "metadata": {},
   "outputs": [
    {
     "name": "stdout",
     "output_type": "stream",
     "text": [
      "Enter a number:112211\n",
      "Number is a unique number. \n"
     ]
    }
   ],
   "source": [
    "#27 Program to find whether a given number is a unique number. For example, 20, 56, 9863, 145, etc. are the unique numbers while 33, 121, 900, 1010, etc. are not unique numbers\n",
    "n = list(map(int, input('Enter a number:').split()))\n",
    "n1 = []\n",
    "for i in n:\n",
    "  if i not in n1:\n",
    "    n1.append(i)\n",
    "if len(n) == len(n1):\n",
    "  print(\"Number is a unique number. \")\n",
    "else:\n",
    "  print(\"Number is not a unique number\")"
   ]
  },
  {
   "cell_type": "code",
   "execution_count": 41,
   "id": "6f673313",
   "metadata": {},
   "outputs": [
    {
     "name": "stdout",
     "output_type": "stream",
     "text": [
      "Enter any number 28\n",
      "28  is a Perfect number\n"
     ]
    }
   ],
   "source": [
    "#28 Program to find whether a given number is a perfect number or not.\n",
    "n = int(input(\"Enter any number \"))\n",
    "sum = 0\n",
    "for i in range(1, n):\n",
    "    if(n % i == 0):\n",
    "        sum = sum + i\n",
    "if (sum == n):\n",
    "    print(n,\" is a Perfect number\")\n",
    "else:\n",
    "    print(n,\" is not a Perfect number\")"
   ]
  },
  {
   "cell_type": "code",
   "execution_count": 42,
   "id": "651a4b84",
   "metadata": {},
   "outputs": [
    {
     "name": "stdout",
     "output_type": "stream",
     "text": [
      "Enter any number: 53\n",
      "53 is a prime number\n"
     ]
    }
   ],
   "source": [
    "#29 Program to find whether a given number is a prime number or not.\n",
    "num = int(input(\"Enter any number: \"))\n",
    "if num > 1:\n",
    "    for i in range(2, int(num/2)+1):\n",
    "        if (num % i) == 0:\n",
    "            print(num,\" is not a prime number\")\n",
    "            break\n",
    "    else:\n",
    "        print(num, \"is a prime number\")\n",
    "else:\n",
    "    print(num, \"is not a prime number\")"
   ]
  },
  {
   "cell_type": "code",
   "execution_count": 43,
   "id": "3ce58226",
   "metadata": {},
   "outputs": [
    {
     "name": "stdout",
     "output_type": "stream",
     "text": [
      "* * * * * \n",
      "* * * * \n",
      "* * * \n",
      "* * \n",
      "* \n"
     ]
    }
   ],
   "source": [
    "#30 Print downward Half-Pyramid Pattern with Star (asterisk)\n",
    "rows = 5\n",
    "for i in range(rows, 0, -1):\n",
    "    for j in range(0, i):\n",
    "        print(\"* \", end='')\n",
    "    print()"
   ]
  },
  {
   "cell_type": "code",
   "execution_count": 44,
   "id": "e7d1b586",
   "metadata": {},
   "outputs": [
    {
     "name": "stdout",
     "output_type": "stream",
     "text": [
      "1\n",
      "22\n",
      "333\n",
      "4444\n",
      "55555\n",
      "666666\n",
      "7777777\n",
      "88888888\n",
      "999999999\n"
     ]
    }
   ],
   "source": [
    "#31 Print following pattern: 1 22 333 4444 55555 666666 7777777 88888888 999999999\n",
    "for i in range(1,10):\n",
    "  for j in range (i):\n",
    "    print(i ,end=\"\")\n",
    "  print()"
   ]
  },
  {
   "cell_type": "code",
   "execution_count": 45,
   "id": "4dbfbfc3",
   "metadata": {},
   "outputs": [
    {
     "name": "stdout",
     "output_type": "stream",
     "text": [
      "1\n",
      "12\n",
      "123\n",
      "1234\n",
      "12345\n",
      "123456\n",
      "1234567\n",
      "12345678\n",
      "123456789\n"
     ]
    }
   ],
   "source": [
    "#32 Print following pattern: 1 12 123 1234 12345 123456 1234567 12345678 123456789\n",
    "for i in range(1,10):\n",
    "  for j in range (1,i+1):\n",
    "    print(j ,end=\"\")\n",
    "  print()"
   ]
  },
  {
   "cell_type": "code",
   "execution_count": 46,
   "id": "2af1eac4",
   "metadata": {},
   "outputs": [
    {
     "name": "stdout",
     "output_type": "stream",
     "text": [
      "A\n",
      "BB\n",
      "CCC\n",
      "DDDD\n",
      "EEEEE\n",
      "FFFFFF\n",
      "GGGGGGG\n",
      "HHHHHHHH\n"
     ]
    }
   ],
   "source": [
    "#33 Print following pattern: A BB CCC DDDD EEEEE FFFFFF GGGGGGG FFFFFFFF\n",
    "alp = 65\n",
    "for i in range(1,9):\n",
    "  for j in range (i):\n",
    "    print(\"%c\" %(alp), end=\"\")\n",
    "  alp += 1\n",
    "  print()"
   ]
  },
  {
   "cell_type": "code",
   "execution_count": 47,
   "id": "52a3b8ae",
   "metadata": {},
   "outputs": [
    {
     "name": "stdout",
     "output_type": "stream",
     "text": [
      "Enter a string: ayushjain\n",
      "Length of the string is :  9\n"
     ]
    }
   ],
   "source": [
    "#34 Write a Python program to calculate the length of a given string.\n",
    "\n",
    "a = input(\"Enter a string: \")\n",
    "print(\"Length of the string is : \",len(a))"
   ]
  },
  {
   "cell_type": "code",
   "execution_count": 48,
   "id": "8208351a",
   "metadata": {},
   "outputs": [
    {
     "name": "stdout",
     "output_type": "stream",
     "text": [
      "Enter 1st string :ayush\n",
      "Enter 2nd string :jain\n",
      "jyush aain\n"
     ]
    }
   ],
   "source": [
    "#35 Write a Python program to get a single string from two given strings, separated by a space and swap the first characters of each string.\n",
    "#  Sample String : 'abc', 'xyz' \n",
    "#  Expected Result : 'xbc ayz'\n",
    "\n",
    "str1 = input(\"Enter 1st string :\")\n",
    "str2 = input(\"Enter 2nd string :\") \n",
    "new_str1 = str2[0] + str1[1: ]\n",
    "new_str2 = str1[0] + str2[1: ]\n",
    "print(new_str1 + \" \" + new_str2)"
   ]
  },
  {
   "cell_type": "code",
   "execution_count": 49,
   "id": "9c608a43",
   "metadata": {},
   "outputs": [
    {
     "name": "stdout",
     "output_type": "stream",
     "text": [
      "Enter a string : ayushjain\n",
      "ayushjainpolis\n"
     ]
    }
   ],
   "source": [
    "#36 Write a Python program to add 'polis' at the end of a given string (length should be at least 3).\n",
    "#   If the given string already ends with 'polis' then add 'polisCS' instead.\n",
    "#   If the string length of the given string is less than 3, leave it unchanged. \n",
    "#  Sample String : 'abc'\n",
    "#  Expected Result : 'abcpolisCS' \n",
    "#  Sample String : 'Acropolis'\n",
    "#  Expected Result : 'AcropolisCS'\n",
    "\n",
    "str = input(\"Enter a string : \")\n",
    "\n",
    "if len(str)<3:\n",
    "    print(str)\n",
    "elif str[-5:]=='polis':\n",
    "    print(str+'CS')\n",
    "else:\n",
    "    print(str+'polis')"
   ]
  },
  {
   "cell_type": "code",
   "execution_count": 50,
   "id": "65a91db1",
   "metadata": {},
   "outputs": [
    {
     "name": "stdout",
     "output_type": "stream",
     "text": [
      "Enter a string :acropolis\n",
      "{'a': 1, 'c': 1, 'r': 1, 'o': 2, 'p': 1, 'l': 1, 'i': 1, 's': 1}\n"
     ]
    }
   ],
   "source": [
    "#37. Write a Python program to count the number of characters (character frequency) in a string. \n",
    "#  Sample String : google.com'\n",
    "#  Expected Result : {'o': 3, 'g': 2, '.': 1, 'e': 1, 'l': 1, 'm': 1, 'c': 1}\n",
    "\n",
    "str1 = input(\"Enter a string :\")\n",
    "freq = {}\n",
    "for i in str1:\n",
    "    if i in freq:\n",
    "        freq[i]+= 1\n",
    "    else:\n",
    "        freq[i] = 1\n",
    "\n",
    "print(freq)"
   ]
  },
  {
   "cell_type": "code",
   "execution_count": 51,
   "id": "1f793e1f",
   "metadata": {},
   "outputs": [
    {
     "name": "stdout",
     "output_type": "stream",
     "text": [
      "Enter a string :ayush\n",
      "asuyh\n"
     ]
    }
   ],
   "source": [
    "#38 Write a Python program to change a given string to a new string where the second and last chars have been exchanged.\n",
    "\n",
    "str1 = input(\"Enter a string :\")\n",
    "new_str = str1[0] + str1[-2] + str1[2:-2] + str1[1] + str1[-1]\n",
    "print(new_str)"
   ]
  },
  {
   "cell_type": "code",
   "execution_count": 52,
   "id": "710a442a",
   "metadata": {},
   "outputs": [
    {
     "name": "stdout",
     "output_type": "stream",
     "text": [
      "Enter a string: ayush \n",
      "auh\n"
     ]
    }
   ],
   "source": [
    "#39 Write a Python program to remove the characters which have even index values of a given string.\n",
    "\n",
    "str1 = input(\"Enter a string: \")\n",
    "new_str = ''\n",
    "for i in range(len(str1)):\n",
    "    if i%2==0:\n",
    "        new_str = new_str + str1[i]\n",
    "        \n",
    "print(new_str)"
   ]
  },
  {
   "cell_type": "code",
   "execution_count": 53,
   "id": "6b0f20ee",
   "metadata": {},
   "outputs": [
    {
     "name": "stdout",
     "output_type": "stream",
     "text": [
      "Enter a string :ayush\n",
      "In lower case :ayush\n",
      "In upper case :AYUSH\n"
     ]
    }
   ],
   "source": [
    "#40 Write a Python program that takes input from the user and displays that input back in upper and lower cases.\n",
    "str1 = input(\"Enter a string :\")\n",
    "print(\"In lower case :\"+str1.lower())\n",
    "print(\"In upper case :\"+str1.upper())"
   ]
  },
  {
   "cell_type": "code",
   "execution_count": 54,
   "id": "d3b201cb",
   "metadata": {},
   "outputs": [
    {
     "name": "stdout",
     "output_type": "stream",
     "text": [
      "The count is: 2\n"
     ]
    }
   ],
   "source": [
    "#41 Write a Python program to count occurrences of a substring in a string.\n",
    "string = \"Python is awesome, isn't it?\"\n",
    "substring = \"is\"\n",
    "count = string.count(substring)\n",
    "print(\"The count is:\", count)"
   ]
  },
  {
   "cell_type": "code",
   "execution_count": 56,
   "id": "f01a9614",
   "metadata": {},
   "outputs": [
    {
     "name": "stdout",
     "output_type": "stream",
     "text": [
      "ayuSH\n"
     ]
    }
   ],
   "source": [
    "# 42Write a Python program to lowercase first n characters in a string.\n",
    "\n",
    "str1 = 'AYUSH'\n",
    "print(str1[:3].lower() + str1[3:])"
   ]
  },
  {
   "cell_type": "code",
   "execution_count": 57,
   "id": "e9e64f87",
   "metadata": {},
   "outputs": [
    {
     "name": "stdout",
     "output_type": "stream",
     "text": [
      "AYUSHJAINACRO\n"
     ]
    }
   ],
   "source": [
    "#43 Write a Python program to remove spaces from a given string.\n",
    "\n",
    "str1= 'AYUSH   JAIN   ACRO'\n",
    "str1=str1.replace('   ','')\n",
    "print(str1)"
   ]
  },
  {
   "cell_type": "code",
   "execution_count": 58,
   "id": "04ad7314",
   "metadata": {},
   "outputs": [
    {
     "name": "stdout",
     "output_type": "stream",
     "text": [
      "\"      AcropolisCollage\"\n",
      "\"          CSITBranch\"\n"
     ]
    }
   ],
   "source": [
    "#44)Write a Python program to move spaces to the front of a given string.\n",
    "def move_Spaces_front(str1):\n",
    "  noSpaces_char = [ch for ch in str1 if ch!=' ']\n",
    "  spaces_char = len(str1) - len(noSpaces_char)\n",
    "  result = ' '*spaces_char\n",
    "  result = '\"'+result + ''.join(noSpaces_char)+'\"'\n",
    "  return(result)\n",
    "\n",
    "print(move_Spaces_front(\"Acropolis    Collage  \"))\n",
    "print(move_Spaces_front(\"CSIT         Branch \"))"
   ]
  },
  {
   "cell_type": "code",
   "execution_count": null,
   "id": "c03fca3f",
   "metadata": {},
   "outputs": [],
   "source": [
    "# 45 Write a Python program to find the maximum occurring character in a given string.\n",
    "\n",
    "test_str = \"Brotherhood\"\n",
    "print (\"The original string is : \" + test_str)\n",
    "  \n",
    "all_freq = {}\n",
    "for i in test_str:\n",
    "    if i in all_freq:\n",
    "        all_freq[i] += 1\n",
    "    else:\n",
    "        all_freq[i] = 1\n",
    "res = max(all_freq, key = all_freq.get) \n",
    "print (\"The maximum of all characters in Brotherhood is : \" + str(res))"
   ]
  },
  {
   "cell_type": "code",
   "execution_count": 61,
   "id": "07bea6b7",
   "metadata": {},
   "outputs": [
    {
     "name": "stdout",
     "output_type": "stream",
     "text": [
      "AcropoliS CollegE IndorE\n",
      "AyusH JaiN\n"
     ]
    }
   ],
   "source": [
    "# 46 Write a Python program to capitalize first and last letters of each word of a given string.\n",
    "\n",
    "def capitalize_first_last_letters(str1):\n",
    "     str1 = result = str1.title()\n",
    "     result =  \"\"\n",
    "     for word in str1.split():\n",
    "        result += word[:-1] + word[-1].upper() + \" \"\n",
    "     return result[:-1]  \n",
    "     \n",
    "print(capitalize_first_last_letters(\"acropolis college indore\"))\n",
    "print(capitalize_first_last_letters(\"Ayush Jain\"))"
   ]
  },
  {
   "cell_type": "code",
   "execution_count": 62,
   "id": "fd85c9fa",
   "metadata": {},
   "outputs": [
    {
     "name": "stdout",
     "output_type": "stream",
     "text": [
      "15\n",
      "10\n"
     ]
    }
   ],
   "source": [
    "# 47 Write a Python program to compute sum of digits of a given string.\n",
    "\n",
    "def sum_digits_string(str1):\n",
    "    sum_digit = 0\n",
    "    for x in str1:\n",
    "        if x.isdigit() == True:\n",
    "            z = int(x)\n",
    "            sum_digit = sum_digit + z\n",
    "\n",
    "    return sum_digit\n",
    "     \n",
    "print(sum_digits_string(\"123abcd45\"))\n",
    "print(sum_digits_string(\"abcd1234\"))"
   ]
  },
  {
   "cell_type": "code",
   "execution_count": 63,
   "id": "191a3559",
   "metadata": {},
   "outputs": [
    {
     "name": "stdout",
     "output_type": "stream",
     "text": [
      "\n",
      "Longest word:  ACROPOLIS\n",
      "Length of the longest word:  9\n"
     ]
    }
   ],
   "source": [
    "#48)Write a Python function that takes a list of words and returns the length of the longest one.\n",
    "def find_longest_word(words_list):\n",
    "    word_len = []\n",
    "    for n in words_list:\n",
    "        word_len.append((len(n), n))\n",
    "    word_len.sort()\n",
    "    return word_len[-1][0], word_len[-1][1]\n",
    "result = find_longest_word([\"CS\", \"ACROPOLIS\", \"CSIT\"])\n",
    "print(\"\\nLongest word: \",result[1])\n",
    "print(\"Length of the longest word: \",result[0])"
   ]
  },
  {
   "cell_type": "code",
   "execution_count": 64,
   "id": "639b9736",
   "metadata": {},
   "outputs": [
    {
     "name": "stdout",
     "output_type": "stream",
     "text": [
      "17\n"
     ]
    }
   ],
   "source": [
    "#49.Write a function x(n) for computing an element in the sequence xn=n^2+1. Call the function for n=4 and write out the result.\n",
    "\n",
    "def x(n):\n",
    "  return(n**2 + 1)\n",
    "\n",
    "print(x(4))"
   ]
  },
  {
   "cell_type": "code",
   "execution_count": 65,
   "id": "2b78b335",
   "metadata": {},
   "outputs": [
    {
     "name": "stdout",
     "output_type": "stream",
     "text": [
      "0.8475\n"
     ]
    }
   ],
   "source": [
    "#50. Take the following Python code that stores a string: ‘str = 'Y-tatata-acropolis: 0.8475'. Use find and string slicing to extract the portion \n",
    "#of the string after the colon character and then use the float function to convert the extracted string into a floating point number.\n",
    "\n",
    "string = 'Y-tatata-acropolis: 0.8475'\n",
    "col_pos = string.find(':')                  # Finds the colon character\n",
    "number = string[col_pos + 1:]                 # Extracts portion after colon\n",
    "confidence = float(number)                  # Converts to floating point number\n",
    "print(confidence)"
   ]
  },
  {
   "cell_type": "code",
   "execution_count": 66,
   "id": "d12f60a4",
   "metadata": {},
   "outputs": [
    {
     "name": "stdout",
     "output_type": "stream",
     "text": [
      "40\n"
     ]
    }
   ],
   "source": [
    "#51. Write a function that returns the middle value among three integers. (Hint: make use of min() and max()). Write code to test this function with different inputs.\n",
    "\n",
    "def middleOfThree(a, b, c) :\n",
    "\tif a > b :\n",
    "\t\tif (b > c):\n",
    "\t\t\treturn b\n",
    "\t\telif (a > c) :\n",
    "\t\t\treturn c\n",
    "\t\telse :\n",
    "\t\t\treturn a\n",
    "\telse:\n",
    "\t\tif (a > c) :\n",
    "\t\t\treturn a\n",
    "\t\telif (b > c) :\n",
    "\t\t\treturn c\n",
    "\t\telse :\n",
    "\t\t\treturn b\n",
    "\n",
    "a = 20\n",
    "b = 45\n",
    "c = 40\n",
    "print( middleOfThree(a, b, c) )"
   ]
  },
  {
   "cell_type": "code",
   "execution_count": 67,
   "id": "bed2b4e1",
   "metadata": {},
   "outputs": [
    {
     "name": "stdout",
     "output_type": "stream",
     "text": [
      "6\n",
      "3\n",
      "8\n",
      "15\n"
     ]
    }
   ],
   "source": [
    "#52.Write a function that computes the area of a rectangle. Then, write a second function that calls this function three times to compute the surface area of a rectangular solid.\n",
    "def secondfun():\n",
    "  for i in range(3):\n",
    "    print(area(i+1,i+3))\n",
    "\n",
    "def area(h,w):\n",
    "  area=h*w\n",
    "  return area\n",
    "height=2\n",
    "width=3\n",
    "print(area(height,width))\n",
    "\n",
    "secondfun()"
   ]
  },
  {
   "cell_type": "code",
   "execution_count": 68,
   "id": "25eb3032",
   "metadata": {},
   "outputs": [
    {
     "name": "stdout",
     "output_type": "stream",
     "text": [
      "19\n"
     ]
    }
   ],
   "source": [
    "#53.Create an outer function that will accept three parameters, a, b and c. Create an inner function inside an outer function that will calculate the\n",
    "#addition of a, b and c. At last, an outer function will add 5 into addition and return it \n",
    "def num1(x,y,z):\n",
    "  def num2(a,b,c):\n",
    "    return a+b+c\n",
    "  outer=num2(x,y,z)+5\n",
    "  return outer\n",
    "\n",
    "print(num1(5,4,5))"
   ]
  },
  {
   "cell_type": "code",
   "execution_count": 69,
   "id": "699e113a",
   "metadata": {},
   "outputs": [
    {
     "name": "stdout",
     "output_type": "stream",
     "text": [
      "the product of numbers from 10 to 100 : is 257182031095525112107857249934597388918419224714455526533820998388496472644482792132224051962512451185663850090463028434334174412800000000000000000000000\n"
     ]
    }
   ],
   "source": [
    "#54.Write a program to create a recursive function to calculate the product of numbers from 10 to 100.\n",
    "\n",
    "def recur(n):\n",
    "   if n == 10:\n",
    "       return n\n",
    "   else:\n",
    "       return n*recur(n-1)\n",
    "\n",
    "print(\"the product of numbers from 10 to 100 : \" \"is\", recur(100))"
   ]
  },
  {
   "cell_type": "code",
   "execution_count": 70,
   "id": "ded079d3",
   "metadata": {},
   "outputs": [
    {
     "name": "stdout",
     "output_type": "stream",
     "text": [
      "Input a number : 10\n",
      "3628800\n"
     ]
    }
   ],
   "source": [
    "#55.Write a Python function to calculate the factorial of a number (a non-negative integer). The function accepts the number as an argument.\n",
    "def factorial(n):\n",
    "    if n == 0:\n",
    "        return 1\n",
    "    else:\n",
    "        return n * factorial(n-1)\n",
    "n=int(input(\"Input a number : \"))\n",
    "print(factorial(n))"
   ]
  },
  {
   "cell_type": "code",
   "execution_count": null,
   "id": "2aa42891",
   "metadata": {},
   "outputs": [],
   "source": [
    "#56.Write a Python function to display all the multiples of  7 & 9 within the range 100 to 500.\n",
    "nl=[]\n",
    "for x in range(100, 501):\n",
    "    if (x%7==0) and (x%9==0):\n",
    "        nl.append(str(x))\n",
    "print (','.join(nl))"
   ]
  },
  {
   "cell_type": "code",
   "execution_count": 72,
   "id": "59c6dcfc",
   "metadata": {},
   "outputs": [
    {
     "name": "stdout",
     "output_type": "stream",
     "text": [
      "27 is not a prime number\n"
     ]
    }
   ],
   "source": [
    "#57.Write a Python function  to check whether the given integer is a prime number or not.\n",
    "num = 27\n",
    "flag = False\n",
    "def prime(n):\n",
    "  flag1=False\n",
    "  if n > 1:\n",
    "    for i in range(2, n):\n",
    "        if (n % i) == 0:\n",
    "            flag1 = True\n",
    "            break\n",
    "  return flag1\n",
    "\n",
    "flag=prime(num)\n",
    "if flag:\n",
    "    print(num, \"is not a prime number\")\n",
    "else:\n",
    "    print(num, \"is a prime number\")"
   ]
  },
  {
   "cell_type": "code",
   "execution_count": 73,
   "id": "f5743475",
   "metadata": {},
   "outputs": [
    {
     "name": "stdout",
     "output_type": "stream",
     "text": [
      "Enter a number: 121\n",
      "121 is not an Armstrong number\n"
     ]
    }
   ],
   "source": [
    "#58. Write a Python function that checks whether a passed interger is armstrong or not.\n",
    "\n",
    "n = int(input(\"Enter a number: \"))\n",
    "\n",
    "def armstrong(num):\n",
    "  sum = 0\n",
    "  temp = num\n",
    "  while temp > 0:\n",
    "    digit = temp % 10\n",
    "    sum += digit ** 3\n",
    "    temp //= 10\n",
    "  return sum\n",
    "\n",
    "summ=armstrong(n)\n",
    "if n == summ:\n",
    "   print(n,\"is an Armstrong number\")\n",
    "else:\n",
    "   print(n,\"is not an Armstrong number\")"
   ]
  },
  {
   "cell_type": "code",
   "execution_count": 74,
   "id": "e935569e",
   "metadata": {},
   "outputs": [
    {
     "name": "stdout",
     "output_type": "stream",
     "text": [
      "Inside the method A.\n",
      "Inside the method B.\n"
     ]
    }
   ],
   "source": [
    "#59. Program to return a function from another function.\n",
    "\n",
    "def B():\n",
    "\tprint(\"Inside the method B.\")\n",
    "\t\n",
    "def A():\n",
    "\tprint(\"Inside the method A.\")\n",
    "\treturn B\n",
    "\n",
    "returned_function = A()\n",
    "\n",
    "returned_function()"
   ]
  },
  {
   "cell_type": "code",
   "execution_count": 76,
   "id": "626bfa7d",
   "metadata": {},
   "outputs": [
    {
     "name": "stdout",
     "output_type": "stream",
     "text": [
      "Enter a command: No\n",
      "Start Process Aborted\n"
     ]
    }
   ],
   "source": [
    "#60. First, def a function, start_process, that takes one argument p. Then, if the start_process function receives an p equal to \"Yes\",\n",
    "# it should return \"Start Process\" Alternatively, elif p is equal to \"No\", then the function should return \"Start Process Aborted\".\n",
    "#  Finally, if start_process gets anything other than those inputs, the function should return \"Sorry for the input\".\n",
    "\n",
    "def start_process(p):\n",
    "  if p==\"Yes\":\n",
    "    return \"Start Process\"\n",
    "  elif p==\"No\":\n",
    "    return \"Start Process Aborted\"\n",
    "  else:\n",
    "    return \"Sorry for the input\"\n",
    "\n",
    "command= input(\"Enter a command: \")\n",
    "print(start_process(command))"
   ]
  },
  {
   "cell_type": "code",
   "execution_count": 77,
   "id": "3ba66a88",
   "metadata": {},
   "outputs": [
    {
     "name": "stdout",
     "output_type": "stream",
     "text": [
      "the absolute value :  33.2\n",
      "No value\n"
     ]
    }
   ],
   "source": [
    "#61. First, def a function called calculate_distance, with one argument (choose any argument name you like).\n",
    "#   If the type of the argument is either int or float, the function should return the absolute value of the function input.\n",
    "#   Otherwise, the function should return \"No value\". Check if it works calling the function with  9.6 and \"what?\".\n",
    "\n",
    "def calculate_distance(argument):\n",
    "  if type(argument) == int or type(argument) == float:\n",
    "      return abs(argument)\n",
    "  else:\n",
    "      print(\"No value\")\n",
    "\n",
    "print(\"the absolute value : \" ,calculate_distance(33.20))\n",
    "\n",
    "calculate_distance(\"what?\")"
   ]
  },
  {
   "cell_type": "code",
   "execution_count": 78,
   "id": "d9966091",
   "metadata": {},
   "outputs": [
    {
     "name": "stdout",
     "output_type": "stream",
     "text": [
      "Sum of all elements in given list:  74\n"
     ]
    }
   ],
   "source": [
    "#62.Python program to display the sum of input (n) numbers using a list.\n",
    "\n",
    "list1 = [11, 5, 17, 18, 23]\n",
    "total=0\n",
    "for i in range(0, len(list1)):\n",
    "    total = total + list1[i]\n",
    " \n",
    "print(\"Sum of all elements in given list: \", total)"
   ]
  },
  {
   "cell_type": "code",
   "execution_count": 79,
   "id": "973529fd",
   "metadata": {},
   "outputs": [
    {
     "name": "stdout",
     "output_type": "stream",
     "text": [
      "Enter 10 Elements of List: \n",
      "3\n",
      "4\n",
      "5\n",
      "6\n",
      "7\n",
      "8\n",
      "9\n",
      "10\n",
      "20\n",
      "10\n",
      "Enter an Element to Insert at End: \n",
      "55\n",
      "\n",
      "The New List is: \n",
      "['3', '4', '5', '6', '7', '8', '9', '10', '20', '10', '55']\n"
     ]
    }
   ],
   "source": [
    "#63)Python program to insert a number to given position in a list.\n",
    "print(\"Enter 10 Elements of List: \")\n",
    "nums = []\n",
    "for i in range(10):\n",
    "    nums.insert(i, input())\n",
    "print(\"Enter an Element to Insert at End: \")\n",
    "elem = input()\n",
    "nums.append(elem)\n",
    "print(\"\\nThe New List is: \")\n",
    "print(nums)"
   ]
  },
  {
   "cell_type": "code",
   "execution_count": null,
   "id": "1999166f",
   "metadata": {},
   "outputs": [],
   "source": [
    "#64. Write the program that prompts the user for a list of numbers and prints out the maximum and minimum of the \n",
    "# numbers at the end when the user enters “done”. Write the program to store the numbers the user enters in a list and \n",
    "# use the max() and min() functions to compute the maximum and minimum numbers after the loop completes.\n",
    "\n",
    "my_list = []                     \n",
    "while True:\n",
    "    number = 0.0\n",
    "    input_number = input('Enter a number: ')\n",
    "    if input_number == 'done':\n",
    "        break\n",
    "\n",
    "    try:\n",
    "        number = float(input_number)\n",
    "    except ValueError:\n",
    "        print('Invalid input')\n",
    "        quit()\n",
    "\n",
    "    my_list.append(number)\n",
    "\n",
    "if my_list:\n",
    "    print('Maximum: ', max(my_list) or None)\n",
    "    print('Minimum: ', min(my_list) or None)"
   ]
  },
  {
   "cell_type": "code",
   "execution_count": null,
   "id": "787d5b5d",
   "metadata": {},
   "outputs": [],
   "source": [
    "#65.Write another program that prompts for a list of numbers as above and at the end prints out both the maximum and minimum of the numbers.\n",
    "my_list = []                     \n",
    "while True:\n",
    "    number = 0.0\n",
    "    input_number = input('Enter a number: ')\n",
    "    if input_number == 'done':\n",
    "        break\n",
    "\n",
    "    try:\n",
    "        number = float(input_number)\n",
    "    except ValueError:\n",
    "        print('Invalid input')\n",
    "        quit()\n",
    "\n",
    "    my_list.append(number)\n",
    "\n",
    "if my_list:\n",
    "    print('Maximum: ', max(my_list) or None)\n",
    "    print('Minimum: ', min(my_list) or None)"
   ]
  },
  {
   "cell_type": "code",
   "execution_count": null,
   "id": "23793d1f",
   "metadata": {},
   "outputs": [],
   "source": [
    "#66.Python program to delete an element from a list by index which is given by the user.\n",
    "\n",
    "print(\"Enter 10 Elements: \")\n",
    "arr = []\n",
    "for i in range(10):\n",
    "    arr.append(input())\n",
    "\n",
    "print(\"\\nEnter the Value to Delete: \")\n",
    "val = input()\n",
    "\n",
    "arr.remove(val)\n",
    "print(arr)"
   ]
  },
  {
   "cell_type": "code",
   "execution_count": null,
   "id": "d1d2ff2a",
   "metadata": {},
   "outputs": [],
   "source": [
    "#67)Write a Python program to print a specified list after removing the 1st, 2nd and 5th elements.\n",
    "color = ['Red', 'Green', 'White', 'Black', 'Pink', 'Yellow']\n",
    "color = [x for (i,x) in enumerate(color) if i not in (1,2,5)]\n",
    "print(color)"
   ]
  },
  {
   "cell_type": "code",
   "execution_count": null,
   "id": "5e2d3f53",
   "metadata": {},
   "outputs": [],
   "source": [
    "#68)Write a Python program to generate all sublists of a list.\n",
    "from itertools import combinations\n",
    "def sub_lists(my_list):\n",
    "\tsubs = []\n",
    "\tfor i in range(0, len(my_list)+1):\n",
    "\t  temp = [list(x) for x in combinations(my_list, i)]\n",
    "\t  if len(temp)>0:\n",
    "\t    subs.extend(temp)\n",
    "\treturn subs\n",
    "\n",
    "\n",
    "l1 = [10, 20, 30, 40]\n",
    "l2 = ['X', 'Y', 'Z']\n",
    "print(\"Original list:\")\n",
    "print(l1)\n",
    "print(\"S\")\n",
    "print(sub_lists(l1))\n",
    "print(\"Sublists of the said list:\")\n",
    "print(sub_lists(l1))\n",
    "print(\"\\nOriginal list:\")\n",
    "print(l2)\n",
    "print(\"Sublists of the said list:\")\n",
    "print(sub_lists(l2))"
   ]
  },
  {
   "cell_type": "code",
   "execution_count": null,
   "id": "a19cd782",
   "metadata": {},
   "outputs": [],
   "source": [
    "#69)Write a Python program to find all the values in a list are greater than a given number.\n",
    "list1 = [220, 330, 500]\n",
    "list2 = [12, 17, 21]\n",
    "print(all(x >= 200 for x in list1))\n",
    "print(all(x >= 15 for x in list2))"
   ]
  },
  {
   "cell_type": "code",
   "execution_count": null,
   "id": "c29440f1",
   "metadata": {},
   "outputs": [],
   "source": [
    "#70)Python program to find the even numbers in a List.\n",
    "list1 = [10, 21, 4, 45, 66, 93]\n",
    "for num in list1:\n",
    "    if num % 2 == 0:\n",
    "        print(num, end=\" \")"
   ]
  }
 ],
 "metadata": {
  "kernelspec": {
   "display_name": "Python 3 (ipykernel)",
   "language": "python",
   "name": "python3"
  },
  "language_info": {
   "codemirror_mode": {
    "name": "ipython",
    "version": 3
   },
   "file_extension": ".py",
   "mimetype": "text/x-python",
   "name": "python",
   "nbconvert_exporter": "python",
   "pygments_lexer": "ipython3",
   "version": "3.9.5"
  }
 },
 "nbformat": 4,
 "nbformat_minor": 5
}
